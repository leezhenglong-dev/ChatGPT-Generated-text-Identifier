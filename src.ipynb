{
 "cells": [
  {
   "cell_type": "markdown",
   "metadata": {},
   "source": [
    "# Loading Library\n",
    "---"
   ]
  },
  {
   "cell_type": "markdown",
   "metadata": {},
   "source": [
    "## Testing Cuda"
   ]
  },
  {
   "cell_type": "code",
   "execution_count": 1,
   "metadata": {},
   "outputs": [
    {
     "name": "stdout",
     "output_type": "stream",
     "text": [
      "True\n",
      "NVIDIA GeForce RTX 3060\n"
     ]
    }
   ],
   "source": [
    "import torch\n",
    "print(torch.cuda.is_available())\n",
    "print(torch.cuda.get_device_name(0))"
   ]
  },
  {
   "cell_type": "markdown",
   "metadata": {},
   "source": [
    "## Loading Bert and Tokenizer"
   ]
  },
  {
   "cell_type": "code",
   "execution_count": null,
   "metadata": {},
   "outputs": [],
   "source": [
    "from transformers import BertModel, BertTokenizer"
   ]
  },
  {
   "cell_type": "code",
   "execution_count": 3,
   "metadata": {},
   "outputs": [],
   "source": [
    "BERT_PATH = './bert_base_chinese'\n",
    "\n",
    "bert = BertModel.from_pretrained(BERT_PATH)\n",
    "tokenizer = BertTokenizer.from_pretrained(BERT_PATH)"
   ]
  },
  {
   "cell_type": "markdown",
   "metadata": {},
   "source": [
    "tesing BertTokenizer"
   ]
  },
  {
   "cell_type": "code",
   "execution_count": 4,
   "metadata": {},
   "outputs": [
    {
     "data": {
      "text/plain": [
       "['我', '是', '孩', '子', '王']"
      ]
     },
     "execution_count": 4,
     "metadata": {},
     "output_type": "execute_result"
    }
   ],
   "source": [
    "tokenizer.tokenize(\"我是孩子王\")"
   ]
  },
  {
   "cell_type": "markdown",
   "metadata": {},
   "source": [
    "# Data Preprocessing\n",
    "---"
   ]
  },
  {
   "cell_type": "markdown",
   "metadata": {},
   "source": [
    "## Loading Data"
   ]
  },
  {
   "cell_type": "code",
   "execution_count": 4,
   "metadata": {},
   "outputs": [],
   "source": [
    "import pandas as pd \n",
    "import numpy as np"
   ]
  },
  {
   "cell_type": "code",
   "execution_count": 19,
   "metadata": {},
   "outputs": [
    {
     "data": {
      "text/html": [
       "<div>\n",
       "<style scoped>\n",
       "    .dataframe tbody tr th:only-of-type {\n",
       "        vertical-align: middle;\n",
       "    }\n",
       "\n",
       "    .dataframe tbody tr th {\n",
       "        vertical-align: top;\n",
       "    }\n",
       "\n",
       "    .dataframe thead th {\n",
       "        text-align: right;\n",
       "    }\n",
       "</style>\n",
       "<table border=\"1\" class=\"dataframe\">\n",
       "  <thead>\n",
       "    <tr style=\"text-align: right;\">\n",
       "      <th></th>\n",
       "      <th>Text</th>\n",
       "      <th>Generated</th>\n",
       "    </tr>\n",
       "  </thead>\n",
       "  <tbody>\n",
       "    <tr>\n",
       "      <th>0</th>\n",
       "      <td>3.2题目代码（带注释）4.ProblemD:Xcubic4.1题目分析与题目4类似，但这里...</td>\n",
       "      <td>0</td>\n",
       "    </tr>\n",
       "    <tr>\n",
       "      <th>1</th>\n",
       "      <td>而加窗则是为了减少频谱分析时产生的能量泄露，选用汉明窗是因为它可以更好地保留原语音信号的频谱...</td>\n",
       "      <td>0</td>\n",
       "    </tr>\n",
       "    <tr>\n",
       "      <th>2</th>\n",
       "      <td>叶绿素荧光参数更多时候体现了光合作用的内在变化，近年来很多研究发现植物光和效率与光强、二氧化...</td>\n",
       "      <td>0</td>\n",
       "    </tr>\n",
       "    <tr>\n",
       "      <th>3</th>\n",
       "      <td>在人工智能的训练过程中，数据的质量和可信度是至关重要的，而区块链的去中心化特性有助于避免数据...</td>\n",
       "      <td>1</td>\n",
       "    </tr>\n",
       "    <tr>\n",
       "      <th>4</th>\n",
       "      <td>-对于POST方法，接收并处理请求体中的数据，并构建HTTP响应消息。-支持持久连接，根据H...</td>\n",
       "      <td>0</td>\n",
       "    </tr>\n",
       "    <tr>\n",
       "      <th>1356</th>\n",
       "      <td>Apriori算法：不同参数设置下的结果如下，本次实验重点修改minSupport这个参数，...</td>\n",
       "      <td>0</td>\n",
       "    </tr>\n",
       "    <tr>\n",
       "      <th>1357</th>\n",
       "      <td>III.重要性及影响个人隐私和信息安全：破解、泄露和滥用个人信息已成为网络犯罪的常见手段，关...</td>\n",
       "      <td>1</td>\n",
       "    </tr>\n",
       "    <tr>\n",
       "      <th>1358</th>\n",
       "      <td>随即test%eax%eqx会去⽐较strings-not_equal的返回值是否为0，才会...</td>\n",
       "      <td>0</td>\n",
       "    </tr>\n",
       "    <tr>\n",
       "      <th>1359</th>\n",
       "      <td>总体而言，深度学习在大数据分析中的应用推动了数据科学和人工智能的发展，为各行业提供了更为强大...</td>\n",
       "      <td>1</td>\n",
       "    </tr>\n",
       "    <tr>\n",
       "      <th>1360</th>\n",
       "      <td>iii)r1A,S1(A),r2B,S2(B),r3C,S3(C),r1B,S1(B),r2...</td>\n",
       "      <td>0</td>\n",
       "    </tr>\n",
       "  </tbody>\n",
       "</table>\n",
       "</div>"
      ],
      "text/plain": [
       "                                                   Text  Generated\n",
       "0     3.2题目代码（带注释）4.ProblemD:Xcubic4.1题目分析与题目4类似，但这里...          0\n",
       "1     而加窗则是为了减少频谱分析时产生的能量泄露，选用汉明窗是因为它可以更好地保留原语音信号的频谱...          0\n",
       "2     叶绿素荧光参数更多时候体现了光合作用的内在变化，近年来很多研究发现植物光和效率与光强、二氧化...          0\n",
       "3     在人工智能的训练过程中，数据的质量和可信度是至关重要的，而区块链的去中心化特性有助于避免数据...          1\n",
       "4     -对于POST方法，接收并处理请求体中的数据，并构建HTTP响应消息。-支持持久连接，根据H...          0\n",
       "1356  Apriori算法：不同参数设置下的结果如下，本次实验重点修改minSupport这个参数，...          0\n",
       "1357  III.重要性及影响个人隐私和信息安全：破解、泄露和滥用个人信息已成为网络犯罪的常见手段，关...          1\n",
       "1358  随即test%eax%eqx会去⽐较strings-not_equal的返回值是否为0，才会...          0\n",
       "1359  总体而言，深度学习在大数据分析中的应用推动了数据科学和人工智能的发展，为各行业提供了更为强大...          1\n",
       "1360  iii)r1A,S1(A),r2B,S2(B),r3C,S3(C),r1B,S1(B),r2...          0"
      ]
     },
     "execution_count": 19,
     "metadata": {},
     "output_type": "execute_result"
    }
   ],
   "source": [
    "df = pd.read_csv('./data/train_data.csv')\n",
    "df.head()._append(df.tail())"
   ]
  },
  {
   "cell_type": "markdown",
   "metadata": {},
   "source": [
    "## Data Reduction"
   ]
  },
  {
   "cell_type": "code",
   "execution_count": 20,
   "metadata": {},
   "outputs": [],
   "source": [
    "data = df.loc[:, ['Text', 'Generated']]"
   ]
  },
  {
   "cell_type": "markdown",
   "metadata": {},
   "source": [
    "## Train, Valid, Test Split"
   ]
  },
  {
   "cell_type": "code",
   "execution_count": 8,
   "metadata": {},
   "outputs": [],
   "source": [
    "from sklearn.model_selection import train_test_split\n",
    "\n",
    "X_train, X_val, y_train, y_val = train_test_split(data['Text'], data['Generated'], test_size=0.1, random_state=42)\n"
   ]
  },
  {
   "cell_type": "markdown",
   "metadata": {},
   "source": [
    "## Dataset Class"
   ]
  },
  {
   "cell_type": "markdown",
   "metadata": {},
   "source": [
    "### labels encoder"
   ]
  },
  {
   "cell_type": "markdown",
   "metadata": {},
   "source": [
    "create a dictionary 'labels' to map categories to indexes"
   ]
  },
  {
   "cell_type": "code",
   "execution_count": 21,
   "metadata": {},
   "outputs": [
    {
     "data": {
      "text/plain": [
       "Generated\n",
       "0    1124\n",
       "1     237\n",
       "Name: count, dtype: int64"
      ]
     },
     "execution_count": 21,
     "metadata": {},
     "output_type": "execute_result"
    }
   ],
   "source": [
    "categories = data['Generated'].value_counts()\n",
    "categories"
   ]
  },
  {
   "cell_type": "code",
   "execution_count": 22,
   "metadata": {},
   "outputs": [
    {
     "data": {
      "text/plain": [
       "pandas.core.series.Series"
      ]
     },
     "execution_count": 22,
     "metadata": {},
     "output_type": "execute_result"
    }
   ],
   "source": [
    "type(categories)"
   ]
  },
  {
   "cell_type": "code",
   "execution_count": 23,
   "metadata": {},
   "outputs": [],
   "source": [
    "categories = categories.index\n",
    "categories_list = categories.to_list()"
   ]
  },
  {
   "cell_type": "code",
   "execution_count": 24,
   "metadata": {},
   "outputs": [
    {
     "data": {
      "text/plain": [
       "{0: 0, 1: 1}"
      ]
     },
     "execution_count": 24,
     "metadata": {},
     "output_type": "execute_result"
    }
   ],
   "source": [
    "labels = dict(zip(categories_list, range(len(categories_list))))\n",
    "labels"
   ]
  },
  {
   "cell_type": "markdown",
   "metadata": {},
   "source": [
    "### max length"
   ]
  },
  {
   "cell_type": "code",
   "execution_count": 13,
   "metadata": {},
   "outputs": [
    {
     "data": {
      "image/png": "[encoded data removed]",
      "text/plain": [
       "<Figure size 640x480 with 1 Axes>"
      ]
     },
     "metadata": {},
     "output_type": "display_data"
    }
   ],
   "source": [
    "import matplotlib.pyplot as plt\n",
    "plt.rcParams['font.sans-serif'] = ['SimHei']\n",
    "plt.rcParams['axes.unicode_minus'] = False \n",
    "\n",
    "length_counts = data['Text'].apply(len).value_counts().sort_index()  \n",
    "\n",
    "plt.hist(length_counts.index, bins=len(length_counts), weights=length_counts.values)  \n",
    "plt.xlabel('文本长度')  \n",
    "plt.ylabel('频数')  \n",
    "plt.title('字符串长度分布直方图')  \n",
    "plt.show()"
   ]
  },
  {
   "cell_type": "code",
   "execution_count": 14,
   "metadata": {},
   "outputs": [
    {
     "data": {
      "text/plain": [
       "Text\n",
       "5        1\n",
       "8        1\n",
       "12       3\n",
       "16       1\n",
       "22       1\n",
       "        ..\n",
       "5102     1\n",
       "5285     1\n",
       "6800     1\n",
       "8471     1\n",
       "10610    1\n",
       "Name: count, Length: 506, dtype: int64"
      ]
     },
     "execution_count": 14,
     "metadata": {},
     "output_type": "execute_result"
    }
   ],
   "source": [
    "length_counts"
   ]
  },
  {
   "cell_type": "code",
   "execution_count": 15,
   "metadata": {},
   "outputs": [
    {
     "data": {
      "text/plain": [
       "85.01102130786187"
      ]
     },
     "execution_count": 15,
     "metadata": {},
     "output_type": "execute_result"
    }
   ],
   "source": [
    "# Calculate the cumulative sum of counts\n",
    "cumulative_counts = length_counts.cumsum()\n",
    "\n",
    "# Calculate the percentage of texts shorter than 500\n",
    "percentage_shorter_than_500 = cumulative_counts[500] / len(data) * 100\n",
    "\n",
    "percentage_shorter_than_500"
   ]
  },
  {
   "cell_type": "code",
   "execution_count": 16,
   "metadata": {},
   "outputs": [],
   "source": [
    "MAX_LENGTH = 500"
   ]
  },
  {
   "cell_type": "markdown",
   "metadata": {},
   "source": [
    "### class definition"
   ]
  },
  {
   "cell_type": "code",
   "execution_count": 17,
   "metadata": {},
   "outputs": [],
   "source": [
    "tokenizer = BertTokenizer.from_pretrained(BERT_PATH)"
   ]
  },
  {
   "cell_type": "code",
   "execution_count": 11,
   "metadata": {},
   "outputs": [],
   "source": [
    "class Dataset(torch.utils.data.Dataset):\n",
    "    def __init__(self, data):\n",
    "        self.labels = [labels[i] for i in data['Generated']]\n",
    "        self.texts = [tokenizer(text, \n",
    "                                padding='max_length',\n",
    "                                max_length = MAX_LENGTH,\n",
    "                                truncation=True,\n",
    "                                return_tensors='pt')\n",
    "                      for text in data['Text']]\n",
    "    \n",
    "    def classes(self):\n",
    "        return self.labels\n",
    "\n",
    "    def __len__(self):\n",
    "        return len(self.labels)\n",
    "\n",
    "    def get_batch_labels(self, idx):\n",
    "        return np.array(self.labels[idx])\n",
    "    \n",
    "    def get_batch_texts(self, idx):\n",
    "        return self.texts[idx]\n",
    "\n",
    "    def __getitem__(self, idx):\n",
    "        batch_texts = self.get_batch_texts(idx)\n",
    "        batch_y = self.get_batch_labels(idx)\n",
    "\n",
    "        return batch_texts, batch_y"
   ]
  },
  {
   "cell_type": "markdown",
   "metadata": {},
   "source": [
    "# Training\n",
    "---"
   ]
  },
  {
   "cell_type": "code",
   "execution_count": 12,
   "metadata": {},
   "outputs": [],
   "source": [
    "from torch import nn"
   ]
  },
  {
   "cell_type": "markdown",
   "metadata": {},
   "source": [
    "## Model Class Definition"
   ]
  },
  {
   "cell_type": "code",
   "execution_count": 13,
   "metadata": {},
   "outputs": [],
   "source": [
    "class BertClassifier(nn.Module):\n",
    "\n",
    "    def __init__(self, dropout=0.5):\n",
    "        super(BertClassifier, self).__init__()\n",
    "        self.bert = BertModel.from_pretrained(BERT_PATH)\n",
    "        self.dropout = nn.Dropout(dropout)\n",
    "        self.linear = nn.Linear(768, len(labels))\n",
    "        self.relu = nn.ReLU()\n",
    "\n",
    "    def forward(self, input_id, mask):\n",
    "        _, pooled_output = self.bert(input_ids=input_id, \n",
    "                                     attention_mask=mask, \n",
    "                                     return_dict=False)\n",
    "        \n",
    "        dropout_output = self.dropout(pooled_output)\n",
    "        linear_output = self.linear(dropout_output)\n",
    "        final_layer = self.relu(linear_output)\n",
    "        \n",
    "        return final_layer"
   ]
  },
  {
   "cell_type": "markdown",
   "metadata": {},
   "source": [
    "## Training Function Definition"
   ]
  },
  {
   "cell_type": "code",
   "execution_count": 14,
   "metadata": {},
   "outputs": [],
   "source": [
    "from torch.optim import Adam\n",
    "from tqdm import tqdm"
   ]
  },
  {
   "cell_type": "code",
   "execution_count": 22,
   "metadata": {},
   "outputs": [],
   "source": [
    "def train(model, train_data, val_data, optimizer, epochs, BATCH_SIZE):\n",
    "\n",
    "    train, val = Dataset(train_data), Dataset(val_data)\n",
    "    train_dataloader = torch.utils.data.DataLoader(train, \n",
    "                                                   batch_size=BATCH_SIZE,  \n",
    "                                                   shuffle=True)\n",
    "    val_dataloader = torch.utils.data.DataLoader(val, batch_size=BATCH_SIZE)\n",
    "\n",
    "    use_cuda = torch.cuda.is_available()\n",
    "    device = torch.device(\"cuda\" if use_cuda else \"cpu\")\n",
    "\n",
    "    criterion = nn.CrossEntropyLoss()\n",
    "\n",
    "    if(use_cuda):\n",
    "        criterion = criterion.cuda()\n",
    "        model = model.cuda()\n",
    "\n",
    "        # load optimizer to cuda\n",
    "        for state in optimizer.state.values():\n",
    "            for k, v in state.items():\n",
    "                if torch.is_tensor(v):\n",
    "                    state[k] = v.cuda()\n",
    "\n",
    "    total_loss_train = 0\n",
    "    total_acc_train = 0\n",
    "    total_acc_val = 0\n",
    "    total_loss_val = 0\n",
    "\n",
    "\n",
    "    for epoch_num in range(epochs):\n",
    "\n",
    "        total_loss_train = 0\n",
    "        total_acc_train = 0\n",
    "\n",
    "        for train_input, train_label in tqdm(train_dataloader):\n",
    "\n",
    "            train_label = train_label.to(device)\n",
    "            mask = train_input['attention_mask'].to(device)\n",
    "            input_id = train_input['input_ids'].squeeze(1).to(device)\n",
    "\n",
    "            output = model(input_id, mask)\n",
    "\n",
    "            batch_loss = criterion(output, train_label.long())\n",
    "            total_loss_train += batch_loss.item()\n",
    "            \n",
    "            acc = (output.argmax(dim=1) == train_label).sum().item()\n",
    "            total_acc_train += acc\n",
    "\n",
    "            model.zero_grad()\n",
    "            batch_loss.backward()\n",
    "            optimizer.step()\n",
    "\n",
    "        total_acc_val = 0\n",
    "        total_loss_val = 0\n",
    "\n",
    "        with torch.no_grad():\n",
    "\n",
    "            for val_input, val_label in tqdm(val_dataloader):\n",
    "                \n",
    "                val_label= val_label.to(device)\n",
    "                mask = val_input['attention_mask'].to(device)\n",
    "                input_id = val_input['input_ids'].squeeze(1).to(device)\n",
    "\n",
    "                output = model(input_id, mask)\n",
    "\n",
    "                batch_loss = criterion(output, val_label.long())\n",
    "                total_loss_val += batch_loss.item()\n",
    "\n",
    "                acc = (output.argmax(dim=1) == val_label).sum().item()\n",
    "                total_acc_val += acc\n",
    "\n",
    "        print(f'''Epochs: {epoch_num + 1} \n",
    "        | Train Loss: {total_loss_train / len(train_data): .3f} \n",
    "        | Train Accuracy: {total_acc_train / len(train_data): .3f} \n",
    "        | Val Loss: {total_loss_val / len(val_data): .3f} \n",
    "        | Val Accuracy: {total_acc_val / len(val_data): .3f}''') \n",
    "\n",
    "    return total_loss_train, optimizer.state_dict()\n",
    "    "
   ]
  },
  {
   "cell_type": "markdown",
   "metadata": {},
   "source": [
    "## Defining Parameters"
   ]
  },
  {
   "cell_type": "code",
   "execution_count": 23,
   "metadata": {},
   "outputs": [],
   "source": [
    "EPOCHS = 1\n",
    "LR = 1e-6\n",
    "BATCH_SIZE = 16\n",
    "\n",
    "model = BertClassifier()\n",
    "\n",
    "optimizer = Adam(model.parameters(), lr=LR)\n",
    "\n",
    "df_train = pd.concat([X_train, y_train], axis=1)\n",
    "df_val = pd.concat([X_val, y_val], axis=1)"
   ]
  },
  {
   "cell_type": "markdown",
   "metadata": {},
   "source": [
    "## Training"
   ]
  },
  {
   "cell_type": "code",
   "execution_count": 24,
   "metadata": {},
   "outputs": [
    {
     "name": "stderr",
     "output_type": "stream",
     "text": [
      "100%|██████████| 77/77 [01:05<00:00,  1.17it/s]\n",
      "100%|██████████| 9/9 [00:03<00:00,  2.92it/s]"
     ]
    },
    {
     "name": "stdout",
     "output_type": "stream",
     "text": [
      "Epochs: 1 \n",
      "        | Train Loss:  0.037 \n",
      "        | Train Accuracy:  0.774 \n",
      "        | Val Loss:  0.027 \n",
      "        | Val Accuracy:  0.818\n"
     ]
    },
    {
     "name": "stderr",
     "output_type": "stream",
     "text": [
      "\n"
     ]
    }
   ],
   "source": [
    "loss = train(model,\n",
    "        df_train,\n",
    "        df_val,\n",
    "        optimizer,\n",
    "        EPOCHS,\n",
    "        BATCH_SIZE)"
   ]
  },
  {
   "cell_type": "markdown",
   "metadata": {},
   "source": [
    "## Save Current Model"
   ]
  },
  {
   "cell_type": "code",
   "execution_count": 25,
   "metadata": {},
   "outputs": [],
   "source": [
    "torch.save({'epoch': EPOCHS,\n",
    "            'model_state_dict': model.state_dict(),\n",
    "            'optimizer_state_dict': optimizer.state_dict(),\n",
    "            'loss': loss},\n",
    "            'trained_1_epoch_model.pth')"
   ]
  },
  {
   "cell_type": "markdown",
   "metadata": {},
   "source": [
    "## Retraining"
   ]
  },
  {
   "cell_type": "code",
   "execution_count": 26,
   "metadata": {},
   "outputs": [],
   "source": [
    "RETRAIN_EPOCHS = 10"
   ]
  },
  {
   "cell_type": "markdown",
   "metadata": {},
   "source": [
    "change the path here to the updated model path"
   ]
  },
  {
   "cell_type": "code",
   "execution_count": 27,
   "metadata": {},
   "outputs": [],
   "source": [
    "load_path = 'trained_1_epoch_model.pth'"
   ]
  },
  {
   "cell_type": "code",
   "execution_count": 32,
   "metadata": {},
   "outputs": [],
   "source": [
    "LR = 1e-6\n",
    "BATCH_SIZE = 8\n",
    "\n",
    "df_train = pd.concat([X_train, y_train], axis=1)\n",
    "df_val = pd.concat([X_val, y_val], axis=1)"
   ]
  },
  {
   "cell_type": "code",
   "execution_count": 33,
   "metadata": {},
   "outputs": [
    {
     "name": "stderr",
     "output_type": "stream",
     "text": [
      "100%|██████████| 153/153 [01:11<00:00,  2.13it/s]\n",
      "100%|██████████| 18/18 [00:02<00:00,  6.60it/s]\n"
     ]
    },
    {
     "name": "stdout",
     "output_type": "stream",
     "text": [
      "Epochs: 1 \n",
      "        | Train Loss:  0.039 \n",
      "        | Train Accuracy:  0.868 \n",
      "        | Val Loss:  0.027 \n",
      "        | Val Accuracy:  0.949\n"
     ]
    },
    {
     "name": "stderr",
     "output_type": "stream",
     "text": [
      "100%|██████████| 153/153 [01:11<00:00,  2.13it/s]\n",
      "100%|██████████| 18/18 [00:02<00:00,  6.61it/s]\n"
     ]
    },
    {
     "name": "stdout",
     "output_type": "stream",
     "text": [
      "Epochs: 1 \n",
      "        | Train Loss:  0.026 \n",
      "        | Train Accuracy:  0.924 \n",
      "        | Val Loss:  0.021 \n",
      "        | Val Accuracy:  0.942\n"
     ]
    },
    {
     "name": "stderr",
     "output_type": "stream",
     "text": [
      "100%|██████████| 153/153 [01:11<00:00,  2.13it/s]\n",
      "100%|██████████| 18/18 [00:02<00:00,  6.58it/s]\n"
     ]
    },
    {
     "name": "stdout",
     "output_type": "stream",
     "text": [
      "Epochs: 1 \n",
      "        | Train Loss:  0.017 \n",
      "        | Train Accuracy:  0.957 \n",
      "        | Val Loss:  0.014 \n",
      "        | Val Accuracy:  0.964\n"
     ]
    },
    {
     "name": "stderr",
     "output_type": "stream",
     "text": [
      "100%|██████████| 153/153 [01:12<00:00,  2.12it/s]\n",
      "100%|██████████| 18/18 [00:02<00:00,  6.56it/s]\n"
     ]
    },
    {
     "name": "stdout",
     "output_type": "stream",
     "text": [
      "Epochs: 1 \n",
      "        | Train Loss:  0.011 \n",
      "        | Train Accuracy:  0.975 \n",
      "        | Val Loss:  0.009 \n",
      "        | Val Accuracy:  0.985\n"
     ]
    },
    {
     "name": "stderr",
     "output_type": "stream",
     "text": [
      "100%|██████████| 153/153 [01:12<00:00,  2.12it/s]\n",
      "100%|██████████| 18/18 [00:02<00:00,  6.58it/s]\n"
     ]
    },
    {
     "name": "stdout",
     "output_type": "stream",
     "text": [
      "Epochs: 1 \n",
      "        | Train Loss:  0.008 \n",
      "        | Train Accuracy:  0.989 \n",
      "        | Val Loss:  0.008 \n",
      "        | Val Accuracy:  0.978\n"
     ]
    },
    {
     "name": "stderr",
     "output_type": "stream",
     "text": [
      "100%|██████████| 153/153 [01:12<00:00,  2.12it/s]\n",
      "100%|██████████| 18/18 [00:02<00:00,  6.59it/s]\n"
     ]
    },
    {
     "name": "stdout",
     "output_type": "stream",
     "text": [
      "Epochs: 1 \n",
      "        | Train Loss:  0.006 \n",
      "        | Train Accuracy:  0.994 \n",
      "        | Val Loss:  0.007 \n",
      "        | Val Accuracy:  0.985\n"
     ]
    },
    {
     "name": "stderr",
     "output_type": "stream",
     "text": [
      "100%|██████████| 153/153 [01:12<00:00,  2.11it/s]\n",
      "100%|██████████| 18/18 [00:02<00:00,  6.62it/s]\n"
     ]
    },
    {
     "name": "stdout",
     "output_type": "stream",
     "text": [
      "Epochs: 1 \n",
      "        | Train Loss:  0.004 \n",
      "        | Train Accuracy:  0.997 \n",
      "        | Val Loss:  0.004 \n",
      "        | Val Accuracy:  1.000\n"
     ]
    },
    {
     "name": "stderr",
     "output_type": "stream",
     "text": [
      "100%|██████████| 153/153 [01:12<00:00,  2.11it/s]\n",
      "100%|██████████| 18/18 [00:02<00:00,  6.62it/s]\n"
     ]
    },
    {
     "name": "stdout",
     "output_type": "stream",
     "text": [
      "Epochs: 1 \n",
      "        | Train Loss:  0.003 \n",
      "        | Train Accuracy:  0.997 \n",
      "        | Val Loss:  0.004 \n",
      "        | Val Accuracy:  0.985\n"
     ]
    },
    {
     "name": "stderr",
     "output_type": "stream",
     "text": [
      "100%|██████████| 153/153 [01:12<00:00,  2.12it/s]\n",
      "100%|██████████| 18/18 [00:02<00:00,  6.56it/s]\n"
     ]
    },
    {
     "name": "stdout",
     "output_type": "stream",
     "text": [
      "Epochs: 1 \n",
      "        | Train Loss:  0.003 \n",
      "        | Train Accuracy:  0.998 \n",
      "        | Val Loss:  0.005 \n",
      "        | Val Accuracy:  0.985\n"
     ]
    },
    {
     "name": "stderr",
     "output_type": "stream",
     "text": [
      "100%|██████████| 153/153 [01:12<00:00,  2.11it/s]\n",
      "100%|██████████| 18/18 [00:02<00:00,  6.60it/s]\n"
     ]
    },
    {
     "name": "stdout",
     "output_type": "stream",
     "text": [
      "Epochs: 1 \n",
      "        | Train Loss:  0.002 \n",
      "        | Train Accuracy:  0.999 \n",
      "        | Val Loss:  0.004 \n",
      "        | Val Accuracy:  0.993\n"
     ]
    }
   ],
   "source": [
    "for epoch in range(RETRAIN_EPOCHS):\n",
    "      \n",
    "      # loading previous model\n",
    "      load_model = BertClassifier()\n",
    "\n",
    "      checkpoint = torch.load(load_path)\n",
    "      load_model.load_state_dict(checkpoint['model_state_dict'])\n",
    "\n",
    "      optimizer = Adam(load_model.parameters(), lr=LR)\n",
    "      optimizer.load_state_dict(checkpoint['optimizer_state_dict'])\n",
    "\n",
    "      trained_epoch = checkpoint['epoch']\n",
    "\n",
    "      # train\n",
    "      loss = train(load_model, \n",
    "                   df_train,\n",
    "                   df_val,\n",
    "                   optimizer,\n",
    "                   1, \n",
    "                   BATCH_SIZE)\n",
    "\n",
    "      # save current model\n",
    "      prefix = 'trained_' + str(trained_epoch + 1) + '_epoch_'\n",
    "      save_path = prefix + 'model.pth'\n",
    "\n",
    "      torch.save({'epoch': trained_epoch+1,\n",
    "            'model_state_dict': load_model.state_dict(),\n",
    "            'optimizer_state_dict': optimizer.state_dict(),\n",
    "            'loss': loss},\n",
    "            save_path)\n",
    "\n",
    "      load_path = save_path\n",
    "            "
   ]
  },
  {
   "cell_type": "markdown",
   "metadata": {},
   "source": [
    "# Evaluation\n",
    "---"
   ]
  },
  {
   "cell_type": "markdown",
   "metadata": {},
   "source": [
    "## Evaluation Definition"
   ]
  },
  {
   "cell_type": "code",
   "execution_count": 37,
   "metadata": {},
   "outputs": [],
   "source": [
    "def evaluate(model, test_data, BATCH_SIZE):\n",
    "\n",
    "    test = Dataset(test_data)\n",
    "    test_dataloader = torch.utils.data.DataLoader(test,\n",
    "                                                  batch_size = BATCH_SIZE)\n",
    "    use_cuda = (torch.cuda.is_available())\n",
    "    device = torch.device('cuda' if use_cuda else 'cpu')\n",
    "    if use_cuda:\n",
    "        model = model.cuda()\n",
    "\n",
    "    total_acc_test = 0\n",
    "\n",
    "    with torch.no_grad():\n",
    "        for test_input, test_label in test_dataloader:\n",
    "            test_label = test_label.to(device)\n",
    "            mask = test_input['attention_mask'].to(device)\n",
    "            input_id = test_input['input_ids'].squeeze(1).to(device)    \n",
    "            \n",
    "            output = model(input_id, mask)\n",
    "            acc = (output.argmax(dim=1) == test_label).sum().item()\n",
    "            total_acc_test += acc\n",
    "\n",
    "    print(f\"test accuracy : {total_acc_test / len(test_data): .3f}\")"
   ]
  },
  {
   "cell_type": "markdown",
   "metadata": {},
   "source": [
    "## Loading Previous Model"
   ]
  },
  {
   "cell_type": "markdown",
   "metadata": {},
   "source": [
    "reference: https://pytorch.org/tutorials/beginner/saving_loading_models.html\n",
    "\n",
    "saving and loading a general checkpoint for inference and resuming training"
   ]
  },
  {
   "cell_type": "code",
   "execution_count": 34,
   "metadata": {},
   "outputs": [
    {
     "data": {
      "text/plain": [
       "<All keys matched successfully>"
      ]
     },
     "execution_count": 34,
     "metadata": {},
     "output_type": "execute_result"
    }
   ],
   "source": [
    "load_model = BertClassifier()\n",
    "checkpoint = torch.load('trained_11_epoch_model.pth')\n",
    "\n",
    "load_model.load_state_dict(checkpoint['model_state_dict'])"
   ]
  },
  {
   "cell_type": "markdown",
   "metadata": {},
   "source": [
    "## Evaluating on Test Data"
   ]
  },
  {
   "cell_type": "code",
   "execution_count": 35,
   "metadata": {},
   "outputs": [],
   "source": [
    "df_test = pd.read_csv('./data/test_data.csv')\n",
    "X_test = df['Text']\n",
    "y_test = df['Generated']\n",
    "df_test = pd.concat([X_test, y_test], axis=1)"
   ]
  },
  {
   "cell_type": "code",
   "execution_count": 38,
   "metadata": {},
   "outputs": [
    {
     "name": "stdout",
     "output_type": "stream",
     "text": [
      "test accuracy :  0.998\n"
     ]
    }
   ],
   "source": [
    "evaluate(load_model, df_test, BATCH_SIZE)"
   ]
  },
  {
   "cell_type": "markdown",
   "metadata": {},
   "source": [
    "# Exploratory Testing\n",
    "---"
   ]
  },
  {
   "cell_type": "code",
   "execution_count": 25,
   "metadata": {},
   "outputs": [
    {
     "data": {
      "text/plain": [
       "<All keys matched successfully>"
      ]
     },
     "execution_count": 25,
     "metadata": {},
     "output_type": "execute_result"
    }
   ],
   "source": [
    "load_model = BertClassifier()\n",
    "checkpoint = torch.load('trained_11_epoch_model.pth')\n",
    "\n",
    "load_model.load_state_dict(checkpoint['model_state_dict'])"
   ]
  },
  {
   "cell_type": "code",
   "execution_count": 33,
   "metadata": {},
   "outputs": [],
   "source": [
    "text_1 = \"在实验过程中，我们使用了和一般题目给的滑动窗口不一样的想法。我们可以发现，数据呈现周期性（可以想到，只有在日照时光伏才会发电，故发电量和功率应该是周期性变化的，对应日出的时间）。这里我们通过限定时间长度来发现周期性这一事实\""
   ]
  },
  {
   "cell_type": "code",
   "execution_count": 42,
   "metadata": {},
   "outputs": [],
   "source": [
    "test_data_1 = {'Text': text_1,\n",
    "               'Generated': 0}\n",
    "test_data_1 = pd.DataFrame(test_data_1, index=['0'])"
   ]
  },
  {
   "cell_type": "code",
   "execution_count": 43,
   "metadata": {},
   "outputs": [
    {
     "name": "stdout",
     "output_type": "stream",
     "text": [
      "test accuracy :  1.000\n"
     ]
    }
   ],
   "source": [
    "X_1 = test_data_1.iloc[:,  :]\n",
    "MAX_LENGTH = 512\n",
    "\n",
    "evaluate(load_model, X_1, 1)"
   ]
  },
  {
   "cell_type": "code",
   "execution_count": 46,
   "metadata": {},
   "outputs": [
    {
     "name": "stdout",
     "output_type": "stream",
     "text": [
      "test accuracy :  1.000\n"
     ]
    }
   ],
   "source": [
    "text_2 = '在实验过程中，我们采用了与传统研究常规滑动窗口不同的方法。我们观察到数据呈现出明显的周期性，这可归因于光伏发电仅在白天发生的固有特性。因此，我们推断电力输出和功率应该呈现与日出时间相一致的周期性变化。为了系统地识别这种周期性，我们通过将分析限制在特定的时间间隔内来进行。'\n",
    "\n",
    "test_data_2 = {'Text': text_2,\n",
    "               'Generated': 0}\n",
    "test_data_2 = pd.DataFrame(test_data_2, index=['0'])\n",
    "\n",
    "X_2 = test_data_2.iloc[:, :]\n",
    "\n",
    "evaluate(load_model, X_2, 1)"
   ]
  },
  {
   "cell_type": "code",
   "execution_count": 56,
   "metadata": {},
   "outputs": [
    {
     "name": "stdout",
     "output_type": "stream",
     "text": [
      "test accuracy :  0.000\n"
     ]
    }
   ],
   "source": [
    "text_3 = \"\"\"\"\"\"\n",
    "\n",
    "test_data_3 = {'Text': text_3,\n",
    "               'Generated': 0}\n",
    "test_data_3 = pd.DataFrame(test_data_3, index=['0'])\n",
    "\n",
    "X_3 = test_data_3.iloc[:, :]\n",
    "\n",
    "evaluate(load_model, X_3, 1)"
   ]
  },
  {
   "cell_type": "code",
   "execution_count": 57,
   "metadata": {},
   "outputs": [
    {
     "name": "stdout",
     "output_type": "stream",
     "text": [
      "test accuracy :  1.000\n"
     ]
    }
   ],
   "source": [
    "text_2 = \"\"\"\n",
    "在我们最近的实验中，我们试图探索在光伏数据分析中的新颖方法。与传统方法有所不同，我们采用了一种独特的方法，偏离了通常在类似研究中使用的标准滑动窗口技术。我们的实验方法涉及对光伏电池在不同条件下生成的数据进行检查。值得注意的是，我们将分析限制在特定的时间间隔内，采用了一种与常用的滑动窗口不同的策略。我们实验的主要观察是数据中存在明显的周期性。这种周期性可以合理地归因于光伏发电的固有特性，即仅在白天发生。我们推测，电力输出和电池生成的功率应该呈现出与日出时间相对应的周期性变化。在光伏数据中识别周期模式对于理解发电动态具有重要意义。认识到电力输出与白天小时的周期性关系可以为太阳能系统的更精确预测和优化提供信息。总的来说，我们的实验通过采用非传统的分析方法成功揭示了光伏数据中的独特周期性。这一发现有助于更深入地理解太阳能发电的时间动态，为太阳能系统的优化提供了有价值的信息。在这一领域的进一步研究可以涉及对已识别的周期模式及其对优化光伏系统的影响进行更详细的分析。此外，探讨实验参数的变化可能提供对所观察到的周期性更全面的理解。\"\"\"\n",
    "\n",
    "test_data_2 = {'Text': text_2,\n",
    "               'Generated': 0}\n",
    "test_data_2 = pd.DataFrame(test_data_2, index=['0'])\n",
    "\n",
    "X_2 = test_data_2.iloc[:, :]\n",
    "\n",
    "evaluate(load_model, X_2, 1)"
   ]
  }
 ],
 "metadata": {
  "kernelspec": {
   "display_name": "bert",
   "language": "python",
   "name": "python3"
  },
  "language_info": {
   "codemirror_mode": {
    "name": "ipython",
    "version": 3
   },
   "file_extension": ".py",
   "mimetype": "text/x-python",
   "name": "python",
   "nbconvert_exporter": "python",
   "pygments_lexer": "ipython3",
   "version": "3.11.5"
  }
 },
 "nbformat": 4,
 "nbformat_minor": 2
}
